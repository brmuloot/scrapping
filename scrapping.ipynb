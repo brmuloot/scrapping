{
 "cells": [
  {
   "cell_type": "code",
   "execution_count": 45,
   "id": "030b3b0e",
   "metadata": {},
   "outputs": [],
   "source": [
    "# Importez les bibliothèques nécessaires\n",
    "from collections import Counter\n",
    "from statistics import mean, stdev, median\n",
    "import matplotlib.pyplot as plt\n",
    "import pandas as pd"
   ]
  },
  {
   "cell_type": "code",
   "execution_count": 36,
   "id": "e8fa1b14",
   "metadata": {},
   "outputs": [],
   "source": [
    "# Importation du jeu de donnée\n",
    "scraper = pd.read_csv(\"scrap.csv\")"
   ]
  },
  {
   "cell_type": "code",
   "execution_count": 7,
   "id": "9c5a68ed",
   "metadata": {},
   "outputs": [
    {
     "name": "stdout",
     "output_type": "stream",
     "text": [
      "Titres de livres les plus fréquents :\n",
      "- The Star-Touched Queen: 2 occurrences\n",
      "- A Light in the Attic: 1 occurrences\n",
      "- Tipping the Velvet: 1 occurrences\n",
      "- Soumission: 1 occurrences\n",
      "- Sharp Objects: 1 occurrences\n",
      "- Sapiens: A Brief History of Humankind: 1 occurrences\n",
      "- The Requiem Red: 1 occurrences\n",
      "- The Dirty Little Secrets of Getting Your Dream Job: 1 occurrences\n",
      "- The Coming Woman: A Novel Based on the Life of the Infamous Feminist, Victoria Woodhull: 1 occurrences\n",
      "- The Boys in the Boat: Nine Americans and Their Epic Quest for Gold at the 1936 Berlin Olympics: 1 occurrences\n"
     ]
    }
   ],
   "source": [
    "# Affichez les titres de livres les plus fréquents\n",
    "titles_counter = Counter(scraper.title)\n",
    "most_common_titles = titles_counter.most_common(10)\n",
    "print(\"Titres de livres les plus fréquents :\")\n",
    "for title, count in most_common_titles:\n",
    "    print(f\"- {title}: {count} occurrences\")"
   ]
  },
  {
   "cell_type": "code",
   "execution_count": 10,
   "id": "59140a14",
   "metadata": {},
   "outputs": [
    {
     "name": "stdout",
     "output_type": "stream",
     "text": [
      "Moyenne des prix : 35.07\n",
      "Écart-type des prix : 14.45\n"
     ]
    }
   ],
   "source": [
    "# Calculer la moyenne et l'écart-type des prix\n",
    "prices = [float(price[1:]) for price in scraper.price]\n",
    "mean_price = mean(prices)\n",
    "stdev_price = stdev(prices)\n",
    "print(f\"Moyenne des prix : {mean_price:.2f}\")\n",
    "print(f\"Écart-type des prix : {stdev_price:.2f}\")"
   ]
  },
  {
   "cell_type": "code",
   "execution_count": 11,
   "id": "e273caec",
   "metadata": {},
   "outputs": [
    {
     "data": {
      "image/png": "[encoded data removed]",
      "text/plain": [
       "<Figure size 432x288 with 1 Axes>"
      ]
     },
     "metadata": {
      "needs_background": "light"
     },
     "output_type": "display_data"
    }
   ],
   "source": [
    "# Créez un histogramme des prix\n",
    "plt.hist(prices, bins=20)\n",
    "plt.title(\"Répartition des prix\")\n",
    "plt.xlabel(\"Prix\")\n",
    "plt.ylabel(\"Nombre de livres\")\n",
    "plt.show()"
   ]
  },
  {
   "cell_type": "code",
   "execution_count": 38,
   "id": "b75a7b67",
   "metadata": {},
   "outputs": [],
   "source": [
    "def to_int(s):\n",
    "    # Dictionnaire de correspondance entre chaînes de caractères et entiers\n",
    "    numbers = {\n",
    "        'zero': 0,\n",
    "        'one': 1,\n",
    "        'two': 2,\n",
    "        'three': 3,\n",
    "        'four': 4,\n",
    "        'five': 5\n",
    "    }\n",
    "    \n",
    "    # Retournez l'entier correspondant à la chaîne de caractères, ou None si la chaîne n'est pas reconnue\n",
    "    return numbers.get(s.lower())"
   ]
  },
  {
   "cell_type": "code",
   "execution_count": 39,
   "id": "35b8ac8d",
   "metadata": {},
   "outputs": [],
   "source": [
    "#Application sur les notes\n",
    "for i in range(len(scraper)):\n",
    "    scraper.stars.iloc[i] = to_int(scraper.stars.iloc[i])"
   ]
  },
  {
   "cell_type": "code",
   "execution_count": 47,
   "id": "7779fe05",
   "metadata": {},
   "outputs": [
    {
     "name": "stdout",
     "output_type": "stream",
     "text": [
      "Moyenne des prix : 2.92\n",
      "Valeure médiane des prix : 3.00\n"
     ]
    }
   ],
   "source": [
    "# Calculer la moyenne et la mediane des notes\n",
    "mean_stars = mean(scraper.stars)\n",
    "med_stars = median(scraper.stars)\n",
    "print(f\"Moyenne des prix : {mean_stars:.2f}\")\n",
    "print(f\"Valeure médiane des prix : {med_stars:.2f}\")"
   ]
  },
  {
   "cell_type": "code",
   "execution_count": 49,
   "id": "563ad37e",
   "metadata": {},
   "outputs": [
    {
     "data": {
      "image/png": "[encoded data removed]",
      "text/plain": [
       "<Figure size 432x288 with 1 Axes>"
      ]
     },
     "metadata": {
      "needs_background": "light"
     },
     "output_type": "display_data"
    }
   ],
   "source": [
    "# Créez un histogramme des notes\n",
    "plt.hist(scraper.stars, bins=20)\n",
    "plt.title(\"Répartition des notes\")\n",
    "plt.xlabel(\"Notes\")\n",
    "plt.ylabel(\"Nombre de livres\")\n",
    "plt.show()"
   ]
  }
 ],
 "metadata": {
  "kernelspec": {
   "display_name": "Python 3 (ipykernel)",
   "language": "python",
   "name": "python3"
  },
  "language_info": {
   "codemirror_mode": {
    "name": "ipython",
    "version": 3
   },
   "file_extension": ".py",
   "mimetype": "text/x-python",
   "name": "python",
   "nbconvert_exporter": "python",
   "pygments_lexer": "ipython3",
   "version": "3.9.12"
  }
 },
 "nbformat": 4,
 "nbformat_minor": 5
}
