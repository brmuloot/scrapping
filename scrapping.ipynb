{
 "cells": [
  {
   "cell_type": "code",
   "execution_count": 1,
   "id": "030b3b0e",
   "metadata": {},
   "outputs": [],
   "source": [
    "import scrapy"
   ]
  },
  {
   "cell_type": "code",
   "execution_count": 2,
   "id": "9c5a68ed",
   "metadata": {},
   "outputs": [],
   "source": [
    "# -*- coding: utf-8 -*-\n",
    "import scrapy\n",
    "\n",
    "# The simplest possible scrapy program.\n",
    "\n",
    "\n",
    "class BookSpider(scrapy.Spider):\n",
    "    name = 'bookspider'\n",
    "    start_urls = [\"http://books.toscrape.com\"]\n",
    "\n",
    "    def parse(self, response):\n",
    "        self.log(f\"I just visited {response.url}\")\n",
    "\n",
    "        for article in response.css('article.product_pod'):\n",
    "            yield {\n",
    "                'title': article.css(\"h3 > a::attr(title)\").extract_first(),\n",
    "                'price': article.css(\".price_color::text\").extract_first()\n",
    "            }\n",
    "\n",
    "        next_page_url = response.css(\"li.next > a::attr(href)\").get()\n",
    "        if next_page_url:\n",
    "            yield response.follow(url=next_page_url, callback=self.parse)"
   ]
  },
  {
   "cell_type": "code",
   "execution_count": null,
   "id": "59140a14",
   "metadata": {},
   "outputs": [],
   "source": []
  }
 ],
 "metadata": {
  "kernelspec": {
   "display_name": "Python 3 (ipykernel)",
   "language": "python",
   "name": "python3"
  },
  "language_info": {
   "codemirror_mode": {
    "name": "ipython",
    "version": 3
   },
   "file_extension": ".py",
   "mimetype": "text/x-python",
   "name": "python",
   "nbconvert_exporter": "python",
   "pygments_lexer": "ipython3",
   "version": "3.9.12"
  }
 },
 "nbformat": 4,
 "nbformat_minor": 5
}
